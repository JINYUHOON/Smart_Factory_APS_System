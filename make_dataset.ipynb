{
  "nbformat": 4,
  "nbformat_minor": 0,
  "metadata": {
    "colab": {
      "name": "make_dataset.ipynb",
      "private_outputs": true,
      "provenance": [],
      "collapsed_sections": [],
      "include_colab_link": true
    },
    "kernelspec": {
      "name": "python3",
      "display_name": "Python 3"
    },
    "language_info": {
      "name": "python"
    }
  },
  "cells": [
    {
      "cell_type": "markdown",
      "metadata": {
        "id": "view-in-github",
        "colab_type": "text"
      },
      "source": [
        "<a href=\"https://colab.research.google.com/github/JINYUHOON/Smart_Factory_APS_System/blob/main/make_dataset.ipynb\" target=\"_parent\"><img src=\"https://colab.research.google.com/assets/colab-badge.svg\" alt=\"Open In Colab\"/></a>"
      ]
    },
    {
      "cell_type": "code",
      "metadata": {
        "id": "s5vH3qKRb7Us"
      },
      "source": [
        "from google.colab import drive\n",
        "drive.mount('/content/drive', force_remount = True)\n",
        "\n",
        "!sudo apt-get install -y fonts-nanum\n",
        "!sudo fc-cache -fv\n",
        "!rm ~/.cache/matplotlib -rf"
      ],
      "execution_count": null,
      "outputs": []
    },
    {
      "cell_type": "code",
      "metadata": {
        "id": "up90G-9EcI4i"
      },
      "source": [
        "import pandas as pd\n",
        "import numpy as np\n",
        "import seaborn as sns\n",
        "import matplotlib.pyplot as plt\n",
        "from matplotlib import rc\n",
        "plt.rc('font', family='NanumBarunGothic')"
      ],
      "execution_count": null,
      "outputs": []
    },
    {
      "cell_type": "code",
      "metadata": {
        "id": "kktp3Xvepf5i"
      },
      "source": [
        "# 제품기본 = pd.read_excel('/content/drive/MyDrive/5조_스마트팩토리/수요,발주예측관리(현재)_20210426.xlsx', sheet_name=2, header=1, index_col=1).drop('Unnamed: 0',axis=1)\n",
        "# 제품기본.to_csv('/content/drive/MyDrive/5조_스마트팩토리/진유훈/product_basic.csv')\n",
        "\n",
        "# 원자재기본 = pd.read_excel('/content/drive/MyDrive/5조_스마트팩토리/수요,발주예측관리(현재)_20210426.xlsx', sheet_name=3, header=1, index_col=1).drop('Unnamed: 0',axis=1)\n",
        "# 원자재기본.to_csv('/content/drive/MyDrive/5조_스마트팩토리/진유훈/material_basic.csv')\n",
        "\n",
        "# 거래처기본 = pd.read_excel('/content/drive/MyDrive/5조_스마트팩토리/수요,발주예측관리(현재)_20210426.xlsx', sheet_name=4, header=1, index_col=1).drop('Unnamed: 0',axis=1)\n",
        "# 거래처기본.to_csv('/content/drive/MyDrive/5조_스마트팩토리/진유훈/customer_basic.csv')\n",
        "\n",
        "# 영업수주 = pd.read_excel('/content/drive/MyDrive/5조_스마트팩토리/수요,발주예측관리(현재)_20210426.xlsx', sheet_name=5, header=1, index_col=1).drop('Unnamed: 0',axis=1)\n",
        "# 영업수주.to_csv('/content/drive/MyDrive/5조_스마트팩토리/진유훈/business_order.csv')\n",
        "\n",
        "# 생산LOT = pd.read_excel('/content/drive/MyDrive/5조_스마트팩토리/수요,발주예측관리(현재)_20210426.xlsx', sheet_name=6, header=1, index_col=1).drop('Unnamed: 0',axis=1)\n",
        "# 생산LOT.to_csv('/content/drive/MyDrive/5조_스마트팩토리/진유훈/LOT_basic.csv')\n",
        "\n",
        "# 생산레시피 = pd.read_excel('/content/drive/MyDrive/5조_스마트팩토리/수요,발주예측관리(현재)_20210426.xlsx', sheet_name=7, header=1, index_col=1).drop('Unnamed: 0',axis=1)\n",
        "# 생산레시피.to_csv('/content/drive/MyDrive/5조_스마트팩토리/진유훈/recipe.csv')\n",
        "\n",
        "# 자재발주 = pd.read_excel('/content/drive/MyDrive/5조_스마트팩토리/수요,발주예측관리(현재)_20210426.xlsx', sheet_name=8, header=1, index_col=1).drop('Unnamed: 0',axis=1)\n",
        "# 자재발주.to_csv('/content/drive/MyDrive/5조_스마트팩토리/진유훈/material_order.csv')\n",
        "\n",
        "# 자재납품 = pd.read_excel('/content/drive/MyDrive/5조_스마트팩토리/수요,발주예측관리(현재)_20210426.xlsx', sheet_name=9, header=1, index_col=1).drop('Unnamed: 0',axis=1)\n",
        "# 자재납품.to_csv('/content/drive/MyDrive/5조_스마트팩토리/진유훈/meaterial_delivery.csv')"
      ],
      "execution_count": null,
      "outputs": []
    },
    {
      "cell_type": "code",
      "metadata": {
        "id": "rwIa4uaRShWz"
      },
      "source": [
        "# 제품기본 = pd.read_excel('/content/drive/MyDrive/5조_스마트팩토리/수요,발주예측관리(현재)_20210426.xlsx', sheet_name=2, header=1, index_col=1).drop('Unnamed: 0',axis=1)\n",
        "# 제품기본.to_csv('/content/drive/MyDrive/5조_스마트팩토리/진유훈/csv테스트.csv')"
      ],
      "execution_count": null,
      "outputs": []
    },
    {
      "cell_type": "markdown",
      "metadata": {
        "id": "1ese9SnJxYPW"
      },
      "source": [
        "# 제품코드 => 제품명 통일하기"
      ]
    },
    {
      "cell_type": "code",
      "metadata": {
        "id": "-aXyp132SnXB"
      },
      "source": [
        "제품기본 = pd.read_pickle('/content/drive/MyDrive/5조_스마트팩토리/데이터셋/제품기본.pkl')\n",
        "제품 = 제품기본[['제품코드','제품명']]\n",
        "import re\n",
        "\n",
        "def prod_name(제품명):\n",
        "    prod_name = re.search('[a-zA-Z]+-*[a-zA-Z]*[\\d]*[a-zA-Z]*',제품명).group()\n",
        "    return prod_name\n",
        "\n",
        "def region(제품명):\n",
        "    try:\n",
        "        region = re.search(r'\\([가-힣]+\\)',제품명).group().strip('()')\n",
        "        return region\n",
        "    except:\n",
        "        return np.nan\n",
        "\n",
        "제품['제품명'] = 제품['제품명'].apply(prod_name)\n",
        "제품['region'] = 제품['제품명'].apply(region)\n",
        "제품"
      ],
      "execution_count": null,
      "outputs": []
    },
    {
      "cell_type": "markdown",
      "metadata": {
        "id": "B9rkrzbJMnjC"
      },
      "source": [
        "# 자재발주 분석"
      ]
    },
    {
      "cell_type": "code",
      "metadata": {
        "id": "JQXzErYiE8AH"
      },
      "source": [
        "자재발주 = pd.read_pickle('/content/drive/MyDrive/5조_스마트팩토리/데이터셋/자재발주.pkl')\n",
        "material_order = 자재발주[['발주일자','원자재코드','발주수량']]\n",
        "material_order"
      ],
      "execution_count": null,
      "outputs": []
    },
    {
      "cell_type": "code",
      "metadata": {
        "id": "RRfiYkDnN6TZ"
      },
      "source": [
        "pd.pivot_table(material_order, index='발주일자', columns='원자재코드',values='발주수량',aggfunc='sum')"
      ],
      "execution_count": null,
      "outputs": []
    },
    {
      "cell_type": "code",
      "metadata": {
        "id": "H28cfDTTMqNG"
      },
      "source": [
        "자재발주['원자재코드'].unique()\n"
      ],
      "execution_count": null,
      "outputs": []
    },
    {
      "cell_type": "markdown",
      "metadata": {
        "id": "yiiMAzCfZT3h"
      },
      "source": [
        "# 원자재 코드별 원자재명 베이스데이터"
      ]
    },
    {
      "cell_type": "code",
      "metadata": {
        "id": "PlkqsK7E61ab"
      },
      "source": [
        "원자재기본 = pd.read_pickle('/content/drive/MyDrive/5조_스마트팩토리/데이터셋/원자재기본.pkl')\n",
        "원자재 = 원자재기본[['원자재코드(품목번호)','원자재명(품목명)']].rename(columns= {'원자재코드(품목번호)':'원자재코드', '원자재명(품목명)':'원자재명'})\n",
        "\n",
        "원자재"
      ],
      "execution_count": null,
      "outputs": []
    },
    {
      "cell_type": "code",
      "metadata": {
        "id": "Cc7JjGWhFBfl"
      },
      "source": [
        "생산레시피 = pd.read_pickle('/content/drive/MyDrive/5조_스마트팩토리/데이터셋/생산레시피.pkl')\n",
        "\n",
        "def org(x):\n",
        "    a = x.split()\n",
        "    b = a[0].split('(')\n",
        "    return b[0]\n",
        "\n",
        "생산레시피['원자재명'] = 생산레시피['원자재명'].apply(org)\n",
        "생산레시피['원자재명'].unique()"
      ],
      "execution_count": null,
      "outputs": []
    },
    {
      "cell_type": "code",
      "metadata": {
        "id": "dyzJk3QYyhb4"
      },
      "source": [
        "생산 = pd.merge(생산레시피, 제품, on='제품코드')\n",
        "생산"
      ],
      "execution_count": null,
      "outputs": []
    },
    {
      "cell_type": "code",
      "metadata": {
        "id": "wO0-m3eRm0tN"
      },
      "source": [
        "pivot_lot = pd.pivot_table(생산, index=['LOT번호','제품명'],columns='원자재명',values='투입지시중량', aggfunc='sum').fillna(0)\n",
        "code_pivot = pivot_lot.groupby('제품명')[list(생산레시피['원자재명'].unique())].mean()\n",
        "result_data1 = round(code_pivot,0).astype(int)\n",
        "result_data1"
      ],
      "execution_count": null,
      "outputs": []
    },
    {
      "cell_type": "code",
      "metadata": {
        "id": "jRVMwlcwx-H4"
      },
      "source": [
        "result_data1.to_csv('/content/drive/MyDrive/5조_스마트팩토리/진유훈/원자재예시.csv')"
      ],
      "execution_count": null,
      "outputs": []
    },
    {
      "cell_type": "code",
      "metadata": {
        "id": "sDSjKS_ykDB2"
      },
      "source": [
        "bom = 생산레시피.groupby(['생산작업요청일자','LOT번호','제품코드','원자재명','투입지시중량'])[['제품코드','투입지시중량']].sum()\n",
        "bom.unstack('원자재명').fillna(0)\n",
        "\n",
        "## 차수는 모든 상품에 대해 날짜 상관없이 ( DATETIME에 영향을 받지 않음.)\n",
        "\n",
        "# pd.pivot_table(생산레시피, columns=[''])"
      ],
      "execution_count": null,
      "outputs": []
    },
    {
      "cell_type": "code",
      "metadata": {
        "id": "TuGsmcI17Fqa"
      },
      "source": [
        "/content/drive/MyDrive/5조_스마트팩토리/진유훈/기상청api.ipynb\n",
        "\n",
        "def prod_name(제품명):\n",
        "    prod_name = re.search('[a-zA-Z]+-*[a-zA-Z]*[\\d]*[a-zA-Z]*',제품명).group()\n",
        "    return prod_name\n",
        "\n",
        "제품기본['제품명'] = 제품기본['제품명'].apply(prod_name)\n",
        "제품기본['제품명'].unique()"
      ],
      "execution_count": null,
      "outputs": []
    },
    {
      "cell_type": "code",
      "metadata": {
        "id": "8EXV-iRKDcXp"
      },
      "source": [
        "제품기본.reset_index(inplace=True)\n",
        "product = 제품기본[['제품코드','제품명']]\n",
        "product\n",
        "\n"
      ],
      "execution_count": null,
      "outputs": []
    },
    {
      "cell_type": "code",
      "metadata": {
        "id": "jww5zp_P8n7i"
      },
      "source": [
        "## 원자재기본에 나와있는 20개원자재 코드<-> 원자재명 \n",
        "meaterial_data = pd.merge(원자재사용, 원자재, on='원자재코드')\n",
        "result_data = pd.merge(meaterial_data, product,on='제품코드')\n",
        "result_data"
      ],
      "execution_count": null,
      "outputs": []
    },
    {
      "cell_type": "code",
      "metadata": {
        "id": "8leChTfSze5x"
      },
      "source": [
        "# ## 원자재명 바꿔주기\n",
        "\n",
        "# import re\n",
        "\n",
        "# def org(x):\n",
        "#     a = x.split()\n",
        "#     b = a[0].split('(')\n",
        "#     return b[0]\n",
        "\n",
        "# 원자재사용['원자재명'] = 원자재사용['원자재명'].apply(org)\n",
        "# # 원자재사용\n",
        "\n",
        "# 원자재사용['원자재명'].unique()"
      ],
      "execution_count": null,
      "outputs": []
    },
    {
      "cell_type": "code",
      "metadata": {
        "id": "zF2XFiZDzfBn"
      },
      "source": [
        "pd.pivot_table(result_data, index='제품명',columns='원자재명',values='투입지시중량', aggfunc='max').fillna(0)"
      ],
      "execution_count": null,
      "outputs": []
    },
    {
      "cell_type": "code",
      "metadata": {
        "id": "DzfeBnVnJk71"
      },
      "source": [
        "test_g = 생산레시피.groupby(['생산작업요청일자','제품코드','원자재코드','원자재명','투입지시중량','투입지시비율'])[['투입지시중량','투입지시비율']].sum()"
      ],
      "execution_count": null,
      "outputs": []
    },
    {
      "cell_type": "code",
      "metadata": {
        "id": "C8U0w7IgLrXK"
      },
      "source": [
        "len(원자재사용['제품코드'].unique())"
      ],
      "execution_count": null,
      "outputs": []
    },
    {
      "cell_type": "code",
      "metadata": {
        "id": "4yj60rMOOdBG"
      },
      "source": [
        "제품 = 제품기본[['제품코드','제품명']]"
      ],
      "execution_count": null,
      "outputs": []
    },
    {
      "cell_type": "code",
      "metadata": {
        "id": "NcRmynCzVJSf"
      },
      "source": [
        "판매데이터 = pd.read_csv('/content/drive/MyDrive/5조_스마트팩토리/조현정/판매데이터.csv',index_col=0)\n",
        "판매데이터"
      ],
      "execution_count": null,
      "outputs": []
    },
    {
      "cell_type": "code",
      "metadata": {
        "id": "W2n9HOXWV5Vg"
      },
      "source": [
        "import re\n",
        "\n",
        "def prod_name(제품명):\n",
        "    prod_name = re.search('[a-zA-Z]+-*[a-zA-Z]*[\\d]*[a-zA-Z]*',제품명).group()\n",
        "    return prod_name\n",
        "\n",
        "def region(제품명):\n",
        "    try:\n",
        "        region = re.search(r'\\([가-힣]+\\)',제품명).group().strip('()')\n",
        "        return region\n",
        "    except:\n",
        "        return np.nan\n",
        "\n",
        "제품['prod_name'] = 제품['제품명'].apply(prod_name)\n",
        "제품['region'] = 제품['제품명'].apply(region)"
      ],
      "execution_count": null,
      "outputs": []
    },
    {
      "cell_type": "code",
      "metadata": {
        "id": "y0zjq7_WWsaY"
      },
      "source": [
        "# 제품 = 제품.drop('제품명',axis=1)\n",
        "제품"
      ],
      "execution_count": null,
      "outputs": []
    },
    {
      "cell_type": "code",
      "metadata": {
        "id": "r9puFj0cYwPi"
      },
      "source": [
        "# 제품[제품['region'].isnull()==True]"
      ],
      "execution_count": null,
      "outputs": []
    },
    {
      "cell_type": "code",
      "metadata": {
        "id": "4slHOR9iYoY1"
      },
      "source": [
        "def org(x):\n",
        "    a = x.split()\n",
        "    b = a[0].split('(')\n",
        "    return b[0]\n",
        "\n",
        "원자재사용['원자재명'] = 원자재사용['원자재명'].apply(org)\n",
        "원자재사용"
      ],
      "execution_count": null,
      "outputs": []
    },
    {
      "cell_type": "code",
      "metadata": {
        "id": "5nDS-oNCXOk6"
      },
      "source": [
        "원자재최종 = pd.merge(원자재사용, 제품, on='제품코드')"
      ],
      "execution_count": null,
      "outputs": []
    },
    {
      "cell_type": "code",
      "metadata": {
        "id": "kTYlkP2QXp0Y"
      },
      "source": [
        "원자재최종2 = 원자재최종.sort_values('생산작업요청일자').reset_index(drop=True)\n",
        "원자재최종2.rename(columns= {'생산작업요청일자':'생산일자',\n",
        "                             '투입지시중량':'투입중량',\n",
        "                             '투입지시비율':'투입비율'},inplace=True)\n",
        "원자재최종2"
      ],
      "execution_count": null,
      "outputs": []
    },
    {
      "cell_type": "code",
      "metadata": {
        "id": "WIRTehCZahDY"
      },
      "source": [
        "원자재최종2['원자재명'].unique()"
      ],
      "execution_count": null,
      "outputs": []
    },
    {
      "cell_type": "code",
      "metadata": {
        "id": "GDV3KdAtYlCI"
      },
      "source": [
        "원자재최종3 = 원자재최종2[['생산일자','LOT번호','prod_name','원자재명','원자재코드','투입중량','투입비율']]"
      ],
      "execution_count": null,
      "outputs": []
    },
    {
      "cell_type": "code",
      "metadata": {
        "id": "aZD2YL6UZ_co"
      },
      "source": [
        "원자재최종3.to_pickle('/content/drive/MyDrive/5조_스마트팩토리/진유훈/원자재정리.pkl')"
      ],
      "execution_count": null,
      "outputs": []
    },
    {
      "cell_type": "code",
      "metadata": {
        "id": "2w3bgho5h4B5"
      },
      "source": [
        "원자재최종3"
      ],
      "execution_count": null,
      "outputs": []
    },
    {
      "cell_type": "code",
      "metadata": {
        "id": "VpyhRL8v4jBa"
      },
      "source": [
        "df = pd.pivot_table(원자재최종3, index=['생산일자','LOT번호','prod_name'], columns='원자재명', values='투입비율',aggfunc='sum').fillna(0)\n",
        "df['sum'] = df.sum(axis=1)\n"
      ],
      "execution_count": null,
      "outputs": []
    },
    {
      "cell_type": "code",
      "metadata": {
        "id": "g7Y_HQb89cal"
      },
      "source": [
        "df[df['sum']<100.0]"
      ],
      "execution_count": null,
      "outputs": []
    },
    {
      "cell_type": "code",
      "metadata": {
        "id": "DD9FYsznstjq"
      },
      "source": [
        "판매데이터 = 판매데이터.sort_values('납기일자').reset_index(drop=True)"
      ],
      "execution_count": null,
      "outputs": []
    },
    {
      "cell_type": "code",
      "metadata": {
        "id": "Ypp8Mr_Avswm"
      },
      "source": [
        "판매데이터"
      ],
      "execution_count": null,
      "outputs": []
    }
  ]
}